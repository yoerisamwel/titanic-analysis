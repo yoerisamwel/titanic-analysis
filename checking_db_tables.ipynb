{
 "cells": [
  {
   "cell_type": "code",
   "execution_count": 1,
   "id": "0edb5105-83e2-4f48-9e1c-047c7a2ce492",
   "metadata": {
    "tags": []
   },
   "outputs": [],
   "source": [
    "from sqlalchemy import create_engine\n",
    "from sqlalchemy.engine import reflection"
   ]
  },
  {
   "cell_type": "code",
   "execution_count": 2,
   "id": "f7636a37-6d98-403a-b2ac-6ee115e4352b",
   "metadata": {
    "tags": []
   },
   "outputs": [],
   "source": [
    "# Create an engine\n",
    "engine = create_engine('sqlite:///titanic.sqlite')"
   ]
  },
  {
   "cell_type": "code",
   "execution_count": 3,
   "id": "c8c31c6a-4e0f-4eee-8337-c5884736de64",
   "metadata": {
    "tags": []
   },
   "outputs": [
    {
     "name": "stdout",
     "output_type": "stream",
     "text": [
      "['new_passenger', 'passenger', 'passenger_merge']\n"
     ]
    },
    {
     "name": "stderr",
     "output_type": "stream",
     "text": [
      "C:\\Users\\yoeri\\AppData\\Local\\Temp\\ipykernel_28612\\1640454195.py:2: SADeprecationWarning: The from_engine() method on Inspector is deprecated and will be removed in a future release.  Please use the sqlalchemy.inspect() function on an Engine or Connection in order to acquire an Inspector. (deprecated since: 1.4)\n",
      "  insp = reflection.Inspector.from_engine(engine)\n"
     ]
    }
   ],
   "source": [
    "# Reflect database tables\n",
    "insp = reflection.Inspector.from_engine(engine)\n",
    "tables = insp.get_table_names()\n",
    "print(tables)  # This will print all the table names in the database"
   ]
  },
  {
   "cell_type": "code",
   "execution_count": null,
   "id": "04a4c021-cd6f-48fc-8bd2-e92a1837f328",
   "metadata": {},
   "outputs": [],
   "source": []
  }
 ],
 "metadata": {
  "kernelspec": {
   "display_name": "Python 3 (ipykernel)",
   "language": "python",
   "name": "python3"
  },
  "language_info": {
   "codemirror_mode": {
    "name": "ipython",
    "version": 3
   },
   "file_extension": ".py",
   "mimetype": "text/x-python",
   "name": "python",
   "nbconvert_exporter": "python",
   "pygments_lexer": "ipython3",
   "version": "3.11.4"
  }
 },
 "nbformat": 4,
 "nbformat_minor": 5
}
