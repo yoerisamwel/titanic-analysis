{
 "cells": [
  {
   "cell_type": "code",
   "execution_count": 30,
   "id": "498cc995-0fc1-4e36-bf79-717d5a3458ed",
   "metadata": {
    "tags": []
   },
   "outputs": [],
   "source": [
    "# Ignore SQLITE warnings related to Decimal numbers in the titanic database\n",
    "import warnings\n",
    "warnings.filterwarnings('ignore')"
   ]
  },
  {
   "cell_type": "code",
   "execution_count": 31,
   "id": "52b9e377-fcd1-4f1c-9063-71a1723f74fa",
   "metadata": {
    "tags": []
   },
   "outputs": [],
   "source": [
    "# Import Dependencies\n",
    "import sqlalchemy\n",
    "from sqlalchemy.ext.automap import automap_base\n",
    "from sqlalchemy.orm import Session\n",
    "from sqlalchemy import create_engine\n",
    "from sqlalchemy import func"
   ]
  },
  {
   "cell_type": "code",
   "execution_count": 32,
   "id": "152f888e-69e5-49ab-9360-a4feee43c459",
   "metadata": {
    "tags": []
   },
   "outputs": [],
   "source": [
    "# Create an engine for the titanic.sqlite database\n",
    "engine = create_engine(\"sqlite:///titanic.sqlite\", echo=False)"
   ]
  },
  {
   "cell_type": "code",
   "execution_count": 33,
   "id": "e8525d51-06d5-46d3-8ee7-1e81d870f545",
   "metadata": {
    "tags": []
   },
   "outputs": [],
   "source": [
    "# Reflect Database into ORM classes\n",
    "Base = automap_base()\n",
    "Base.prepare(autoload_with=engine)\n",
    "Base.classes.keys()"
   ]
  },
  {
   "cell_type": "code",
   "execution_count": 34,
   "id": "87f80d5d-4baa-4763-aa39-7972b4e39246",
   "metadata": {
    "tags": []
   },
   "outputs": [],
   "source": [
    "# Save a reference to the passenger table as `Passenger`\n",
    "Passenger = Base.classes.passenger"
   ]
  },
  {
   "cell_type": "code",
   "execution_count": 20,
   "id": "b2692d7c-d322-4c43-9a7e-51db5e4c39ab",
   "metadata": {
    "tags": []
   },
   "outputs": [],
   "source": [
    "# Create a database session object\n",
    "session = Session(engine)"
   ]
  },
  {
   "cell_type": "code",
   "execution_count": 21,
   "id": "0b3ddce6-2a87-427e-9572-486bc350b642",
   "metadata": {
    "tags": []
   },
   "outputs": [
    {
     "name": "stdout",
     "output_type": "stream",
     "text": [
      "ImmutableColumnCollection(passenger.id, passenger.name, passenger.pclass, passenger.age, passenger.sex, passenger.survived)\n"
     ]
    }
   ],
   "source": [
    "print(Passenger.__table__.columns)"
   ]
  },
  {
   "cell_type": "code",
   "execution_count": 22,
   "id": "b349bedb-84a8-43fc-a6ac-8120c9c3a5a8",
   "metadata": {
    "tags": []
   },
   "outputs": [
    {
     "name": "stdout",
     "output_type": "stream",
     "text": [
      "ID: 1, Name: Allen, Miss Elisabeth Walton, Age: 29.0, Sex: female, Survived: 1\n",
      "ID: 2, Name: Allison, Miss Helen Loraine, Age: 2.0, Sex: female, Survived: 0\n",
      "ID: 3, Name: Allison, Mr Hudson Joshua Creighton, Age: 30.0, Sex: male, Survived: 0\n",
      "ID: 4, Name: Allison, Mrs Hudson JC (Bessie Waldo Daniels), Age: 25.0, Sex: female, Survived: 0\n",
      "ID: 5, Name: Allison, Master Hudson Trevor, Age: 0.92, Sex: male, Survived: 1\n",
      "ID: 6, Name: Anderson, Mr Harry, Age: 47.0, Sex: male, Survived: 1\n",
      "ID: 7, Name: Andrews, Miss Kornelia Theodosia, Age: 63.0, Sex: female, Survived: 1\n",
      "ID: 8, Name: Andrews, Mr Thomas, jr, Age: 39.0, Sex: male, Survived: 0\n",
      "ID: 9, Name: Appleton, Mrs Edward Dale (Charlotte Lamson), Age: 58.0, Sex: female, Survived: 1\n",
      "ID: 10, Name: Artagaveytia, Mr Ramon, Age: 71.0, Sex: male, Survived: 0\n"
     ]
    }
   ],
   "source": [
    "# Querying the Passenger table\n",
    "passengers = session.query(Passenger).all()\n",
    "\n",
    "# Querying the first 10 passengers in the Passenger table\n",
    "first_ten_passengers = session.query(Passenger).limit(10).all()\n",
    "\n",
    "for passenger in first_ten_passengers:\n",
    "    print(f\"ID: {passenger.id}, Name: {passenger.name}, Age: {passenger.age}, Sex: {passenger.sex}, Survived: {passenger.survived}\")\n"
   ]
  },
  {
   "cell_type": "code",
   "execution_count": 23,
   "id": "f6eb3a82-bdec-413d-ab64-9c340fcbf119",
   "metadata": {
    "tags": []
   },
   "outputs": [
    {
     "data": {
      "text/plain": [
       "[('female',), ('male',)]"
      ]
     },
     "execution_count": 23,
     "metadata": {},
     "output_type": "execute_result"
    }
   ],
   "source": [
    "# List all of the passenger sexes\n",
    "session.query(Passenger.sex).group_by(Passenger.sex).all()"
   ]
  },
  {
   "cell_type": "code",
   "execution_count": 24,
   "id": "1ceece1d-7c06-4606-ab00-49d340928d6d",
   "metadata": {
    "tags": []
   },
   "outputs": [
    {
     "data": {
      "text/plain": [
       "[('female', 308), ('male', 142)]"
      ]
     },
     "execution_count": 24,
     "metadata": {},
     "output_type": "execute_result"
    }
   ],
   "source": [
    "# The survivors per sex\n",
    "session.query(Passenger.sex, func.sum(Passenger.survived)).\\\n",
    "    group_by(Passenger.sex).\\\n",
    "    order_by(func.sum(Passenger.survived).desc()).all()"
   ]
  },
  {
   "cell_type": "code",
   "execution_count": 25,
   "id": "76999474-2222-40ef-9580-89828a6c39e9",
   "metadata": {
    "tags": []
   },
   "outputs": [
    {
     "data": {
      "text/plain": [
       "[('female',), ('male',)]"
      ]
     },
     "execution_count": 25,
     "metadata": {},
     "output_type": "execute_result"
    }
   ],
   "source": [
    "# List all of the Billing Postal Codes for the USA.\n",
    "results = session.query(Passenger.sex).\\\n",
    "    filter(Passenger.age == 47.0).group_by(Passenger.sex).all()\n",
    "results"
   ]
  },
  {
   "cell_type": "code",
   "execution_count": 26,
   "id": "65b4140d-1251-4408-8de2-a415654dc2ed",
   "metadata": {
    "tags": []
   },
   "outputs": [
    {
     "data": {
      "text/plain": [
       "[(25.0, 7), (25.0, 0)]"
      ]
     },
     "execution_count": 26,
     "metadata": {},
     "output_type": "execute_result"
    }
   ],
   "source": [
    "# Calculate the survivalTotals per age\n",
    "\n",
    "session.query(Passenger.age, func.sum(Passenger.survived)).\\\n",
    "    filter(Passenger.age == 25.0).\\\n",
    "    group_by(Passenger.survived).\\\n",
    "    order_by(func.sum(Passenger.survived).desc()).all()"
   ]
  },
  {
   "cell_type": "code",
   "execution_count": 35,
   "id": "7d492dad-23fe-4326-9afb-d5307daadf8c",
   "metadata": {
    "tags": []
   },
   "outputs": [
    {
     "name": "stdout",
     "output_type": "stream",
     "text": [
      "['passenger']\n"
     ]
    }
   ],
   "source": [
    "print(Base.classes.keys())  # This should now include 'passenger_merge' if it has a suitable primary key\n"
   ]
  },
  {
   "cell_type": "code",
   "execution_count": null,
   "id": "26a315b7-9ef6-4fca-840b-ec3f28c40d1a",
   "metadata": {},
   "outputs": [],
   "source": []
  }
 ],
 "metadata": {
  "kernelspec": {
   "display_name": "Python 3 (ipykernel)",
   "language": "python",
   "name": "python3"
  },
  "language_info": {
   "codemirror_mode": {
    "name": "ipython",
    "version": 3
   },
   "file_extension": ".py",
   "mimetype": "text/x-python",
   "name": "python",
   "nbconvert_exporter": "python",
   "pygments_lexer": "ipython3",
   "version": "3.11.4"
  }
 },
 "nbformat": 4,
 "nbformat_minor": 5
}
